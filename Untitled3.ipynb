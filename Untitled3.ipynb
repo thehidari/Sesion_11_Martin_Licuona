{
 "cells": [
  {
   "cell_type": "code",
   "execution_count": 4,
   "id": "3ce6152e-adee-407e-8e97-5038e84e1e45",
   "metadata": {
    "tags": []
   },
   "outputs": [
    {
     "data": {
      "text/html": [
       "<div>\n",
       "<style scoped>\n",
       "    .dataframe tbody tr th:only-of-type {\n",
       "        vertical-align: middle;\n",
       "    }\n",
       "\n",
       "    .dataframe tbody tr th {\n",
       "        vertical-align: top;\n",
       "    }\n",
       "\n",
       "    .dataframe thead th {\n",
       "        text-align: right;\n",
       "    }\n",
       "</style>\n",
       "<table border=\"1\" class=\"dataframe\">\n",
       "  <thead>\n",
       "    <tr style=\"text-align: right;\">\n",
       "      <th></th>\n",
       "      <th>DEPARTAMENTO</th>\n",
       "      <th>Total</th>\n",
       "      <th>Total-BR</th>\n",
       "      <th>Inicial-BR</th>\n",
       "      <th>Primaria-BR</th>\n",
       "      <th>Secundaria-BR</th>\n",
       "      <th>Basica-Alternativa</th>\n",
       "      <th>Basica-Especial</th>\n",
       "      <th>Tecnico-Productiva</th>\n",
       "      <th>Total-Sup</th>\n",
       "      <th>Pedagog-Sup</th>\n",
       "      <th>Tecnolog-Sup</th>\n",
       "      <th>Artistica-Sup</th>\n",
       "    </tr>\n",
       "  </thead>\n",
       "  <tbody>\n",
       "    <tr>\n",
       "      <th>0</th>\n",
       "      <td>Moquegua</td>\n",
       "      <td>50453</td>\n",
       "      <td>42994</td>\n",
       "      <td>10381</td>\n",
       "      <td>18436</td>\n",
       "      <td>14177</td>\n",
       "      <td>1528</td>\n",
       "      <td>204</td>\n",
       "      <td>2760</td>\n",
       "      <td>2967</td>\n",
       "      <td>416</td>\n",
       "      <td>2551</td>\n",
       "      <td>0</td>\n",
       "    </tr>\n",
       "    <tr>\n",
       "      <th>1</th>\n",
       "      <td>Madre de Dios</td>\n",
       "      <td>55109</td>\n",
       "      <td>51056</td>\n",
       "      <td>11450</td>\n",
       "      <td>24866</td>\n",
       "      <td>14740</td>\n",
       "      <td>2036</td>\n",
       "      <td>58</td>\n",
       "      <td>607</td>\n",
       "      <td>1352</td>\n",
       "      <td>307</td>\n",
       "      <td>1045</td>\n",
       "      <td>0</td>\n",
       "    </tr>\n",
       "    <tr>\n",
       "      <th>2</th>\n",
       "      <td>Tumbes</td>\n",
       "      <td>78212</td>\n",
       "      <td>68088</td>\n",
       "      <td>18258</td>\n",
       "      <td>30206</td>\n",
       "      <td>19624</td>\n",
       "      <td>3006</td>\n",
       "      <td>355</td>\n",
       "      <td>3354</td>\n",
       "      <td>3409</td>\n",
       "      <td>537</td>\n",
       "      <td>2872</td>\n",
       "      <td>0</td>\n",
       "    </tr>\n",
       "    <tr>\n",
       "      <th>3</th>\n",
       "      <td>Pasco</td>\n",
       "      <td>81714</td>\n",
       "      <td>73455</td>\n",
       "      <td>16923</td>\n",
       "      <td>34014</td>\n",
       "      <td>22518</td>\n",
       "      <td>2273</td>\n",
       "      <td>190</td>\n",
       "      <td>2725</td>\n",
       "      <td>3071</td>\n",
       "      <td>611</td>\n",
       "      <td>2460</td>\n",
       "      <td>0</td>\n",
       "    </tr>\n",
       "    <tr>\n",
       "      <th>4</th>\n",
       "      <td>Tacna</td>\n",
       "      <td>94602</td>\n",
       "      <td>82238</td>\n",
       "      <td>18780</td>\n",
       "      <td>35799</td>\n",
       "      <td>27659</td>\n",
       "      <td>2150</td>\n",
       "      <td>217</td>\n",
       "      <td>4271</td>\n",
       "      <td>5726</td>\n",
       "      <td>820</td>\n",
       "      <td>4584</td>\n",
       "      <td>322</td>\n",
       "    </tr>\n",
       "  </tbody>\n",
       "</table>\n",
       "</div>"
      ],
      "text/plain": [
       "    DEPARTAMENTO  Total  Total-BR  Inicial-BR  Primaria-BR  Secundaria-BR   \n",
       "0       Moquegua  50453     42994       10381        18436          14177  \\\n",
       "1  Madre de Dios  55109     51056       11450        24866          14740   \n",
       "2         Tumbes  78212     68088       18258        30206          19624   \n",
       "3          Pasco  81714     73455       16923        34014          22518   \n",
       "4          Tacna  94602     82238       18780        35799          27659   \n",
       "\n",
       "   Basica-Alternativa  Basica-Especial  Tecnico-Productiva  Total-Sup   \n",
       "0                1528              204                2760       2967  \\\n",
       "1                2036               58                 607       1352   \n",
       "2                3006              355                3354       3409   \n",
       "3                2273              190                2725       3071   \n",
       "4                2150              217                4271       5726   \n",
       "\n",
       "   Pedagog-Sup  Tecnolog-Sup  Artistica-Sup  \n",
       "0          416          2551              0  \n",
       "1          307          1045              0  \n",
       "2          537          2872              0  \n",
       "3          611          2460              0  \n",
       "4          820          4584            322  "
      ]
     },
     "execution_count": 4,
     "metadata": {},
     "output_type": "execute_result"
    }
   ],
   "source": [
    "import pandas as pd\n",
    "df_minedu = pd.read_excel('matricula.xlsx',\n",
    "                       sheet_name='Hoja01',\n",
    "                       skiprows=0,\n",
    "                       skipfooter=0)\n",
    "df_minedu.head(5)"
   ]
  },
  {
   "cell_type": "code",
   "execution_count": 5,
   "id": "8e76f771-8bff-4597-859d-48d0ff447daa",
   "metadata": {
    "tags": []
   },
   "outputs": [
    {
     "data": {
      "text/html": [
       "<div>\n",
       "<style scoped>\n",
       "    .dataframe tbody tr th:only-of-type {\n",
       "        vertical-align: middle;\n",
       "    }\n",
       "\n",
       "    .dataframe tbody tr th {\n",
       "        vertical-align: top;\n",
       "    }\n",
       "\n",
       "    .dataframe thead th {\n",
       "        text-align: right;\n",
       "    }\n",
       "</style>\n",
       "<table border=\"1\" class=\"dataframe\">\n",
       "  <thead>\n",
       "    <tr style=\"text-align: right;\">\n",
       "      <th></th>\n",
       "      <th>DEPARTAMENTO</th>\n",
       "      <th>Total</th>\n",
       "      <th>Total-BR</th>\n",
       "      <th>Inicial-BR</th>\n",
       "      <th>Primaria-BR</th>\n",
       "      <th>Secundaria-BR</th>\n",
       "      <th>Basica-Alternativa</th>\n",
       "      <th>Basica-Especial</th>\n",
       "      <th>Tecnico-Productiva</th>\n",
       "      <th>Total-Sup</th>\n",
       "      <th>Pedagog-Sup</th>\n",
       "      <th>Tecnolog-Sup</th>\n",
       "      <th>Artistica-Sup</th>\n",
       "    </tr>\n",
       "  </thead>\n",
       "  <tbody>\n",
       "    <tr>\n",
       "      <th>21</th>\n",
       "      <td>Cajamarca</td>\n",
       "      <td>440557</td>\n",
       "      <td>405713</td>\n",
       "      <td>88516</td>\n",
       "      <td>185757</td>\n",
       "      <td>131440</td>\n",
       "      <td>8839</td>\n",
       "      <td>405</td>\n",
       "      <td>5190</td>\n",
       "      <td>20410</td>\n",
       "      <td>5612</td>\n",
       "      <td>14242</td>\n",
       "      <td>556</td>\n",
       "    </tr>\n",
       "    <tr>\n",
       "      <th>22</th>\n",
       "      <td>La Libertad</td>\n",
       "      <td>534177</td>\n",
       "      <td>489449</td>\n",
       "      <td>106732</td>\n",
       "      <td>229117</td>\n",
       "      <td>153600</td>\n",
       "      <td>10600</td>\n",
       "      <td>1033</td>\n",
       "      <td>14666</td>\n",
       "      <td>18429</td>\n",
       "      <td>3571</td>\n",
       "      <td>14294</td>\n",
       "      <td>564</td>\n",
       "    </tr>\n",
       "    <tr>\n",
       "      <th>23</th>\n",
       "      <td>Piura</td>\n",
       "      <td>585433</td>\n",
       "      <td>546568</td>\n",
       "      <td>122684</td>\n",
       "      <td>254347</td>\n",
       "      <td>169537</td>\n",
       "      <td>10076</td>\n",
       "      <td>821</td>\n",
       "      <td>11637</td>\n",
       "      <td>16331</td>\n",
       "      <td>1015</td>\n",
       "      <td>15316</td>\n",
       "      <td>0</td>\n",
       "    </tr>\n",
       "    <tr>\n",
       "      <th>24</th>\n",
       "      <td>Lima</td>\n",
       "      <td>2725645</td>\n",
       "      <td>2303400</td>\n",
       "      <td>520383</td>\n",
       "      <td>1028626</td>\n",
       "      <td>754391</td>\n",
       "      <td>69804</td>\n",
       "      <td>8925</td>\n",
       "      <td>96385</td>\n",
       "      <td>247131</td>\n",
       "      <td>8137</td>\n",
       "      <td>238753</td>\n",
       "      <td>241</td>\n",
       "    </tr>\n",
       "    <tr>\n",
       "      <th>25</th>\n",
       "      <td>Total</td>\n",
       "      <td>9038947</td>\n",
       "      <td>8024672</td>\n",
       "      <td>1768758</td>\n",
       "      <td>3667092</td>\n",
       "      <td>2588822</td>\n",
       "      <td>215176</td>\n",
       "      <td>20722</td>\n",
       "      <td>252049</td>\n",
       "      <td>526328</td>\n",
       "      <td>52225</td>\n",
       "      <td>467826</td>\n",
       "      <td>6277</td>\n",
       "    </tr>\n",
       "  </tbody>\n",
       "</table>\n",
       "</div>"
      ],
      "text/plain": [
       "   DEPARTAMENTO    Total  Total-BR  Inicial-BR  Primaria-BR  Secundaria-BR   \n",
       "21    Cajamarca   440557    405713       88516       185757         131440  \\\n",
       "22  La Libertad   534177    489449      106732       229117         153600   \n",
       "23        Piura   585433    546568      122684       254347         169537   \n",
       "24         Lima  2725645   2303400      520383      1028626         754391   \n",
       "25        Total  9038947   8024672     1768758      3667092        2588822   \n",
       "\n",
       "    Basica-Alternativa  Basica-Especial  Tecnico-Productiva  Total-Sup   \n",
       "21                8839              405                5190      20410  \\\n",
       "22               10600             1033               14666      18429   \n",
       "23               10076              821               11637      16331   \n",
       "24               69804             8925               96385     247131   \n",
       "25              215176            20722              252049     526328   \n",
       "\n",
       "    Pedagog-Sup  Tecnolog-Sup  Artistica-Sup  \n",
       "21         5612         14242            556  \n",
       "22         3571         14294            564  \n",
       "23         1015         15316              0  \n",
       "24         8137        238753            241  \n",
       "25        52225        467826           6277  "
      ]
     },
     "execution_count": 5,
     "metadata": {},
     "output_type": "execute_result"
    }
   ],
   "source": [
    "import pandas as pd\n",
    "df_minedu = pd.read_excel('matricula.xlsx',\n",
    "                       sheet_name='Hoja01',\n",
    "                       skiprows=0,\n",
    "                       skipfooter=0)\n",
    "df_minedu.tail(5)"
   ]
  },
  {
   "cell_type": "code",
   "execution_count": 6,
   "id": "398f1d8a-7568-47f8-9c34-a4c65f3af378",
   "metadata": {
    "tags": []
   },
   "outputs": [
    {
     "name": "stdout",
     "output_type": "stream",
     "text": [
      "<class 'pandas.core.frame.DataFrame'>\n",
      "RangeIndex: 26 entries, 0 to 25\n",
      "Data columns (total 13 columns):\n",
      " #   Column              Non-Null Count  Dtype \n",
      "---  ------              --------------  ----- \n",
      " 0   DEPARTAMENTO        26 non-null     object\n",
      " 1   Total               26 non-null     int64 \n",
      " 2   Total-BR            26 non-null     int64 \n",
      " 3   Inicial-BR          26 non-null     int64 \n",
      " 4   Primaria-BR         26 non-null     int64 \n",
      " 5   Secundaria-BR       26 non-null     int64 \n",
      " 6   Basica-Alternativa  26 non-null     int64 \n",
      " 7   Basica-Especial     26 non-null     int64 \n",
      " 8   Tecnico-Productiva  26 non-null     int64 \n",
      " 9   Total-Sup           26 non-null     int64 \n",
      " 10  Pedagog-Sup         26 non-null     int64 \n",
      " 11  Tecnolog-Sup        26 non-null     int64 \n",
      " 12  Artistica-Sup       26 non-null     int64 \n",
      "dtypes: int64(12), object(1)\n",
      "memory usage: 2.8+ KB\n"
     ]
    }
   ],
   "source": [
    "import pandas as pd\n",
    "df_minedu = pd.read_excel('matricula.xlsx',\n",
    "                       sheet_name='Hoja01',\n",
    "                       skiprows=0,\n",
    "                       skipfooter=0)\n",
    "df_minedu.info()"
   ]
  },
  {
   "cell_type": "code",
   "execution_count": 7,
   "id": "78990ad1-a143-43d0-9d67-3cb37803271e",
   "metadata": {
    "tags": []
   },
   "outputs": [
    {
     "data": {
      "text/plain": [
       "array(['DEPARTAMENTO', 'Total', 'Total-BR', 'Inicial-BR', 'Primaria-BR',\n",
       "       'Secundaria-BR', 'Basica-Alternativa', 'Basica-Especial',\n",
       "       'Tecnico-Productiva', 'Total-Sup', 'Pedagog-Sup', 'Tecnolog-Sup',\n",
       "       'Artistica-Sup'], dtype=object)"
      ]
     },
     "execution_count": 7,
     "metadata": {},
     "output_type": "execute_result"
    }
   ],
   "source": [
    "import pandas as pd\n",
    "df_minedu = pd.read_excel('matricula.xlsx',\n",
    "                       sheet_name='Hoja01',\n",
    "                       skiprows=0,\n",
    "                       skipfooter=0)\n",
    "df_minedu.columns.values"
   ]
  },
  {
   "cell_type": "code",
   "execution_count": 8,
   "id": "87b7be86-2367-402d-ab3e-7f7a8dbf5e08",
   "metadata": {
    "tags": []
   },
   "outputs": [
    {
     "data": {
      "text/plain": [
       "array([ 0,  1,  2,  3,  4,  5,  6,  7,  8,  9, 10, 11, 12, 13, 14, 15, 16,\n",
       "       17, 18, 19, 20, 21, 22, 23, 24, 25], dtype=int64)"
      ]
     },
     "execution_count": 8,
     "metadata": {},
     "output_type": "execute_result"
    }
   ],
   "source": [
    "import pandas as pd\n",
    "df_minedu = pd.read_excel('matricula.xlsx',\n",
    "                       sheet_name='Hoja01',\n",
    "                       skiprows=0,\n",
    "                       skipfooter=0)\n",
    "df_minedu.index.values"
   ]
  },
  {
   "cell_type": "code",
   "execution_count": 3,
   "id": "a0f936a0-6e55-4b26-846b-ab432fb2a000",
   "metadata": {},
   "outputs": [
    {
     "name": "stdout",
     "output_type": "stream",
     "text": [
      "<class 'pandas.core.indexes.base.Index'>\n",
      "<class 'pandas.core.indexes.range.RangeIndex'>\n"
     ]
    }
   ],
   "source": [
    "import pandas as pd\n",
    "df_minedu = pd.read_excel('matricula.xlsx',\n",
    "                       sheet_name='Hoja01',\n",
    "                       skiprows=0,\n",
    "                       skipfooter=0)\n",
    "print(type(df_minedu.columns))\n",
    "print(type(df_minedu.index))"
   ]
  },
  {
   "cell_type": "code",
   "execution_count": 4,
   "id": "94144cc2-da29-45c8-804a-d87342bd8696",
   "metadata": {
    "tags": []
   },
   "outputs": [
    {
     "name": "stdout",
     "output_type": "stream",
     "text": [
      "<class 'list'>\n",
      "<class 'list'>\n"
     ]
    }
   ],
   "source": [
    "df_minedu.columns.tolist()\n",
    "df_minedu.index.tolist()\n",
    "\n",
    "print (type(df_minedu.columns.tolist()))\n",
    "print (type(df_minedu.index.tolist()))"
   ]
  },
  {
   "cell_type": "code",
   "execution_count": 5,
   "id": "44cf613a-10dc-473a-9408-ce1921a54439",
   "metadata": {
    "tags": []
   },
   "outputs": [
    {
     "data": {
      "text/plain": [
       "(26, 13)"
      ]
     },
     "execution_count": 5,
     "metadata": {},
     "output_type": "execute_result"
    }
   ],
   "source": [
    "df_minedu.shape"
   ]
  },
  {
   "cell_type": "code",
   "execution_count": 6,
   "id": "18b6f523-33fb-4e67-a53d-10a8d003479a",
   "metadata": {
    "tags": []
   },
   "outputs": [
    {
     "data": {
      "text/html": [
       "<div>\n",
       "<style scoped>\n",
       "    .dataframe tbody tr th:only-of-type {\n",
       "        vertical-align: middle;\n",
       "    }\n",
       "\n",
       "    .dataframe tbody tr th {\n",
       "        vertical-align: top;\n",
       "    }\n",
       "\n",
       "    .dataframe thead th {\n",
       "        text-align: right;\n",
       "    }\n",
       "</style>\n",
       "<table border=\"1\" class=\"dataframe\">\n",
       "  <thead>\n",
       "    <tr style=\"text-align: right;\">\n",
       "      <th></th>\n",
       "      <th>DEPARTAMENTO</th>\n",
       "      <th>Total</th>\n",
       "      <th>Total-BR</th>\n",
       "      <th>Inicial-BR</th>\n",
       "      <th>Primaria-BR</th>\n",
       "      <th>Secundaria-BR</th>\n",
       "      <th>Total-Sup</th>\n",
       "      <th>Pedagog-Sup</th>\n",
       "      <th>Tecnolog-Sup</th>\n",
       "      <th>Artistica-Sup</th>\n",
       "    </tr>\n",
       "  </thead>\n",
       "  <tbody>\n",
       "    <tr>\n",
       "      <th>0</th>\n",
       "      <td>Moquegua</td>\n",
       "      <td>50453</td>\n",
       "      <td>42994</td>\n",
       "      <td>10381</td>\n",
       "      <td>18436</td>\n",
       "      <td>14177</td>\n",
       "      <td>2967</td>\n",
       "      <td>416</td>\n",
       "      <td>2551</td>\n",
       "      <td>0</td>\n",
       "    </tr>\n",
       "    <tr>\n",
       "      <th>1</th>\n",
       "      <td>Madre de Dios</td>\n",
       "      <td>55109</td>\n",
       "      <td>51056</td>\n",
       "      <td>11450</td>\n",
       "      <td>24866</td>\n",
       "      <td>14740</td>\n",
       "      <td>1352</td>\n",
       "      <td>307</td>\n",
       "      <td>1045</td>\n",
       "      <td>0</td>\n",
       "    </tr>\n",
       "  </tbody>\n",
       "</table>\n",
       "</div>"
      ],
      "text/plain": [
       "    DEPARTAMENTO  Total  Total-BR  Inicial-BR  Primaria-BR  Secundaria-BR   \n",
       "0       Moquegua  50453     42994       10381        18436          14177  \\\n",
       "1  Madre de Dios  55109     51056       11450        24866          14740   \n",
       "\n",
       "   Total-Sup  Pedagog-Sup  Tecnolog-Sup  Artistica-Sup  \n",
       "0       2967          416          2551              0  \n",
       "1       1352          307          1045              0  "
      ]
     },
     "execution_count": 6,
     "metadata": {},
     "output_type": "execute_result"
    }
   ],
   "source": [
    "df_minedu.drop(['Basica-Alternativa','Basica-Especial','Tecnico-Productiva'], axis=1, inplace=True)\n",
    "df_minedu.head(2)"
   ]
  },
  {
   "cell_type": "code",
   "execution_count": 7,
   "id": "77316bd0-5eeb-4548-87cb-2466938341a2",
   "metadata": {
    "tags": []
   },
   "outputs": [
    {
     "data": {
      "text/plain": [
       "Index(['DEPARTAMENTO', 'Total', 'Total-BR', 'Inicial-BR', 'Primaria-BR',\n",
       "       'Secundaria-BR', 'Total-NoSup', 'Pedag-NoSup', 'Tecno-NoSup',\n",
       "       'Art-NoSup'],\n",
       "      dtype='object')"
      ]
     },
     "execution_count": 7,
     "metadata": {},
     "output_type": "execute_result"
    }
   ],
   "source": [
    "df_minedu.rename(columns={'Total-Sup':'Total-NoSup', 'Pedagog-Sup':'Pedag-NoSup', 'Tecnolog-Sup':'Tecno-NoSup', 'Artistica-Sup':'Art-NoSup'}, inplace=True)\n",
    "df_minedu.columns"
   ]
  },
  {
   "cell_type": "code",
   "execution_count": null,
   "id": "20e73c5f-43fc-4b66-a0cc-24de235346e7",
   "metadata": {},
   "outputs": [],
   "source": []
  }
 ],
 "metadata": {
  "kernelspec": {
   "display_name": "Python 3 (ipykernel)",
   "language": "python",
   "name": "python3"
  },
  "language_info": {
   "codemirror_mode": {
    "name": "ipython",
    "version": 3
   },
   "file_extension": ".py",
   "mimetype": "text/x-python",
   "name": "python",
   "nbconvert_exporter": "python",
   "pygments_lexer": "ipython3",
   "version": "3.11.3"
  }
 },
 "nbformat": 4,
 "nbformat_minor": 5
}
